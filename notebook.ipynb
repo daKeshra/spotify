{
 "cells": [
  {
   "cell_type": "code",
   "execution_count": 1,
   "metadata": {},
   "outputs": [],
   "source": [
    "import pandas as pd\n",
    "import numpy as np\n",
    "import plotly.express as px \n",
    "import matplotlib.pyplot as plt\n",
    "import seaborn as sns\n",
    "import warnings \n",
    "warnings.filterwarnings('ignore') \n",
    "\n",
    "\n",
    "#set max viewable column\n",
    "pd.set_option('display.max_columns', 30)\n"
   ]
  },
  {
   "cell_type": "markdown",
   "metadata": {},
   "source": [
    "## **Exploratory Data Analysis**"
   ]
  },
  {
   "cell_type": "markdown",
   "metadata": {},
   "source": [
    "#### Load dataset"
   ]
  },
  {
   "cell_type": "code",
   "execution_count": 2,
   "metadata": {},
   "outputs": [
    {
     "data": {
      "text/html": [
       "<div>\n",
       "<style scoped>\n",
       "    .dataframe tbody tr th:only-of-type {\n",
       "        vertical-align: middle;\n",
       "    }\n",
       "\n",
       "    .dataframe tbody tr th {\n",
       "        vertical-align: top;\n",
       "    }\n",
       "\n",
       "    .dataframe thead th {\n",
       "        text-align: right;\n",
       "    }\n",
       "</style>\n",
       "<table border=\"1\" class=\"dataframe\">\n",
       "  <thead>\n",
       "    <tr style=\"text-align: right;\">\n",
       "      <th></th>\n",
       "      <th>track_id</th>\n",
       "      <th>artists</th>\n",
       "      <th>album_name</th>\n",
       "      <th>track_name</th>\n",
       "      <th>popularity</th>\n",
       "      <th>duration_ms</th>\n",
       "      <th>explicit</th>\n",
       "      <th>danceability</th>\n",
       "      <th>energy</th>\n",
       "      <th>key</th>\n",
       "      <th>loudness</th>\n",
       "      <th>mode</th>\n",
       "      <th>speechiness</th>\n",
       "      <th>acousticness</th>\n",
       "      <th>instrumentalness</th>\n",
       "      <th>liveness</th>\n",
       "      <th>valence</th>\n",
       "      <th>tempo</th>\n",
       "      <th>time_signature</th>\n",
       "      <th>track_genre</th>\n",
       "    </tr>\n",
       "  </thead>\n",
       "  <tbody>\n",
       "    <tr>\n",
       "      <th>0</th>\n",
       "      <td>5SuOikwiRyPMVoIQDJUgSV</td>\n",
       "      <td>Gen Hoshino</td>\n",
       "      <td>Comedy</td>\n",
       "      <td>Comedy</td>\n",
       "      <td>73</td>\n",
       "      <td>230666</td>\n",
       "      <td>False</td>\n",
       "      <td>0.676</td>\n",
       "      <td>0.4610</td>\n",
       "      <td>1</td>\n",
       "      <td>-6.746</td>\n",
       "      <td>0</td>\n",
       "      <td>0.1430</td>\n",
       "      <td>0.0322</td>\n",
       "      <td>0.000001</td>\n",
       "      <td>0.3580</td>\n",
       "      <td>0.715</td>\n",
       "      <td>87.917</td>\n",
       "      <td>4</td>\n",
       "      <td>acoustic</td>\n",
       "    </tr>\n",
       "    <tr>\n",
       "      <th>1</th>\n",
       "      <td>4qPNDBW1i3p13qLCt0Ki3A</td>\n",
       "      <td>Ben Woodward</td>\n",
       "      <td>Ghost (Acoustic)</td>\n",
       "      <td>Ghost - Acoustic</td>\n",
       "      <td>55</td>\n",
       "      <td>149610</td>\n",
       "      <td>False</td>\n",
       "      <td>0.420</td>\n",
       "      <td>0.1660</td>\n",
       "      <td>1</td>\n",
       "      <td>-17.235</td>\n",
       "      <td>1</td>\n",
       "      <td>0.0763</td>\n",
       "      <td>0.9240</td>\n",
       "      <td>0.000006</td>\n",
       "      <td>0.1010</td>\n",
       "      <td>0.267</td>\n",
       "      <td>77.489</td>\n",
       "      <td>4</td>\n",
       "      <td>acoustic</td>\n",
       "    </tr>\n",
       "    <tr>\n",
       "      <th>2</th>\n",
       "      <td>1iJBSr7s7jYXzM8EGcbK5b</td>\n",
       "      <td>Ingrid Michaelson;ZAYN</td>\n",
       "      <td>To Begin Again</td>\n",
       "      <td>To Begin Again</td>\n",
       "      <td>57</td>\n",
       "      <td>210826</td>\n",
       "      <td>False</td>\n",
       "      <td>0.438</td>\n",
       "      <td>0.3590</td>\n",
       "      <td>0</td>\n",
       "      <td>-9.734</td>\n",
       "      <td>1</td>\n",
       "      <td>0.0557</td>\n",
       "      <td>0.2100</td>\n",
       "      <td>0.000000</td>\n",
       "      <td>0.1170</td>\n",
       "      <td>0.120</td>\n",
       "      <td>76.332</td>\n",
       "      <td>4</td>\n",
       "      <td>acoustic</td>\n",
       "    </tr>\n",
       "    <tr>\n",
       "      <th>3</th>\n",
       "      <td>6lfxq3CG4xtTiEg7opyCyx</td>\n",
       "      <td>Kina Grannis</td>\n",
       "      <td>Crazy Rich Asians (Original Motion Picture Sou...</td>\n",
       "      <td>Can't Help Falling In Love</td>\n",
       "      <td>71</td>\n",
       "      <td>201933</td>\n",
       "      <td>False</td>\n",
       "      <td>0.266</td>\n",
       "      <td>0.0596</td>\n",
       "      <td>0</td>\n",
       "      <td>-18.515</td>\n",
       "      <td>1</td>\n",
       "      <td>0.0363</td>\n",
       "      <td>0.9050</td>\n",
       "      <td>0.000071</td>\n",
       "      <td>0.1320</td>\n",
       "      <td>0.143</td>\n",
       "      <td>181.740</td>\n",
       "      <td>3</td>\n",
       "      <td>acoustic</td>\n",
       "    </tr>\n",
       "    <tr>\n",
       "      <th>4</th>\n",
       "      <td>5vjLSffimiIP26QG5WcN2K</td>\n",
       "      <td>Chord Overstreet</td>\n",
       "      <td>Hold On</td>\n",
       "      <td>Hold On</td>\n",
       "      <td>82</td>\n",
       "      <td>198853</td>\n",
       "      <td>False</td>\n",
       "      <td>0.618</td>\n",
       "      <td>0.4430</td>\n",
       "      <td>2</td>\n",
       "      <td>-9.681</td>\n",
       "      <td>1</td>\n",
       "      <td>0.0526</td>\n",
       "      <td>0.4690</td>\n",
       "      <td>0.000000</td>\n",
       "      <td>0.0829</td>\n",
       "      <td>0.167</td>\n",
       "      <td>119.949</td>\n",
       "      <td>4</td>\n",
       "      <td>acoustic</td>\n",
       "    </tr>\n",
       "  </tbody>\n",
       "</table>\n",
       "</div>"
      ],
      "text/plain": [
       "                 track_id                 artists  \\\n",
       "0  5SuOikwiRyPMVoIQDJUgSV             Gen Hoshino   \n",
       "1  4qPNDBW1i3p13qLCt0Ki3A            Ben Woodward   \n",
       "2  1iJBSr7s7jYXzM8EGcbK5b  Ingrid Michaelson;ZAYN   \n",
       "3  6lfxq3CG4xtTiEg7opyCyx            Kina Grannis   \n",
       "4  5vjLSffimiIP26QG5WcN2K        Chord Overstreet   \n",
       "\n",
       "                                          album_name  \\\n",
       "0                                             Comedy   \n",
       "1                                   Ghost (Acoustic)   \n",
       "2                                     To Begin Again   \n",
       "3  Crazy Rich Asians (Original Motion Picture Sou...   \n",
       "4                                            Hold On   \n",
       "\n",
       "                   track_name  popularity  duration_ms  explicit  \\\n",
       "0                      Comedy          73       230666     False   \n",
       "1            Ghost - Acoustic          55       149610     False   \n",
       "2              To Begin Again          57       210826     False   \n",
       "3  Can't Help Falling In Love          71       201933     False   \n",
       "4                     Hold On          82       198853     False   \n",
       "\n",
       "   danceability  energy  key  loudness  mode  speechiness  acousticness  \\\n",
       "0         0.676  0.4610    1    -6.746     0       0.1430        0.0322   \n",
       "1         0.420  0.1660    1   -17.235     1       0.0763        0.9240   \n",
       "2         0.438  0.3590    0    -9.734     1       0.0557        0.2100   \n",
       "3         0.266  0.0596    0   -18.515     1       0.0363        0.9050   \n",
       "4         0.618  0.4430    2    -9.681     1       0.0526        0.4690   \n",
       "\n",
       "   instrumentalness  liveness  valence    tempo  time_signature track_genre  \n",
       "0          0.000001    0.3580    0.715   87.917               4    acoustic  \n",
       "1          0.000006    0.1010    0.267   77.489               4    acoustic  \n",
       "2          0.000000    0.1170    0.120   76.332               4    acoustic  \n",
       "3          0.000071    0.1320    0.143  181.740               3    acoustic  \n",
       "4          0.000000    0.0829    0.167  119.949               4    acoustic  "
      ]
     },
     "execution_count": 2,
     "metadata": {},
     "output_type": "execute_result"
    }
   ],
   "source": [
    "music = pd.read_csv(r'/home/dakeshra7/Documents/Altschool Africa/csvfiles/dataset.csv', index_col=0)\n",
    "\n",
    "\n",
    "#view first 5 rows of the dataset\n",
    "music.head()"
   ]
  },
  {
   "cell_type": "markdown",
   "metadata": {},
   "source": [
    "### **Data Cleaning**"
   ]
  },
  {
   "cell_type": "markdown",
   "metadata": {},
   "source": [
    "##### handling missing data"
   ]
  },
  {
   "cell_type": "code",
   "execution_count": 3,
   "metadata": {},
   "outputs": [
    {
     "data": {
      "text/plain": [
       "track_id            0\n",
       "artists             1\n",
       "album_name          1\n",
       "track_name          1\n",
       "popularity          0\n",
       "duration_ms         0\n",
       "explicit            0\n",
       "danceability        0\n",
       "energy              0\n",
       "key                 0\n",
       "loudness            0\n",
       "mode                0\n",
       "speechiness         0\n",
       "acousticness        0\n",
       "instrumentalness    0\n",
       "liveness            0\n",
       "valence             0\n",
       "tempo               0\n",
       "time_signature      0\n",
       "track_genre         0\n",
       "dtype: int64"
      ]
     },
     "execution_count": 3,
     "metadata": {},
     "output_type": "execute_result"
    }
   ],
   "source": [
    "#checking for null data\n",
    "music.isnull().sum()"
   ]
  },
  {
   "cell_type": "code",
   "execution_count": 4,
   "metadata": {},
   "outputs": [
    {
     "data": {
      "text/html": [
       "<div>\n",
       "<style scoped>\n",
       "    .dataframe tbody tr th:only-of-type {\n",
       "        vertical-align: middle;\n",
       "    }\n",
       "\n",
       "    .dataframe tbody tr th {\n",
       "        vertical-align: top;\n",
       "    }\n",
       "\n",
       "    .dataframe thead th {\n",
       "        text-align: right;\n",
       "    }\n",
       "</style>\n",
       "<table border=\"1\" class=\"dataframe\">\n",
       "  <thead>\n",
       "    <tr style=\"text-align: right;\">\n",
       "      <th></th>\n",
       "      <th>track_id</th>\n",
       "      <th>artists</th>\n",
       "      <th>album_name</th>\n",
       "      <th>track_name</th>\n",
       "      <th>popularity</th>\n",
       "      <th>duration_ms</th>\n",
       "      <th>explicit</th>\n",
       "      <th>danceability</th>\n",
       "      <th>energy</th>\n",
       "      <th>key</th>\n",
       "      <th>loudness</th>\n",
       "      <th>mode</th>\n",
       "      <th>speechiness</th>\n",
       "      <th>acousticness</th>\n",
       "      <th>instrumentalness</th>\n",
       "      <th>liveness</th>\n",
       "      <th>valence</th>\n",
       "      <th>tempo</th>\n",
       "      <th>time_signature</th>\n",
       "      <th>track_genre</th>\n",
       "    </tr>\n",
       "  </thead>\n",
       "  <tbody>\n",
       "    <tr>\n",
       "      <th>65900</th>\n",
       "      <td>1kR4gIb7nGxHPI3D2ifs59</td>\n",
       "      <td>NaN</td>\n",
       "      <td>NaN</td>\n",
       "      <td>NaN</td>\n",
       "      <td>0</td>\n",
       "      <td>0</td>\n",
       "      <td>False</td>\n",
       "      <td>0.501</td>\n",
       "      <td>0.583</td>\n",
       "      <td>7</td>\n",
       "      <td>-9.46</td>\n",
       "      <td>0</td>\n",
       "      <td>0.0605</td>\n",
       "      <td>0.69</td>\n",
       "      <td>0.00396</td>\n",
       "      <td>0.0747</td>\n",
       "      <td>0.734</td>\n",
       "      <td>138.391</td>\n",
       "      <td>4</td>\n",
       "      <td>k-pop</td>\n",
       "    </tr>\n",
       "  </tbody>\n",
       "</table>\n",
       "</div>"
      ],
      "text/plain": [
       "                     track_id artists album_name track_name  popularity  \\\n",
       "65900  1kR4gIb7nGxHPI3D2ifs59     NaN        NaN        NaN           0   \n",
       "\n",
       "       duration_ms  explicit  danceability  energy  key  loudness  mode  \\\n",
       "65900            0     False         0.501   0.583    7     -9.46     0   \n",
       "\n",
       "       speechiness  acousticness  instrumentalness  liveness  valence  \\\n",
       "65900       0.0605          0.69           0.00396    0.0747    0.734   \n",
       "\n",
       "         tempo  time_signature track_genre  \n",
       "65900  138.391               4       k-pop  "
      ]
     },
     "execution_count": 4,
     "metadata": {},
     "output_type": "execute_result"
    }
   ],
   "source": [
    "music[music.artists.isna()]"
   ]
  },
  {
   "cell_type": "markdown",
   "metadata": {},
   "source": [
    "we have one role of null value so we will drop it"
   ]
  },
  {
   "cell_type": "code",
   "execution_count": 5,
   "metadata": {},
   "outputs": [],
   "source": [
    "#dropping null values\n",
    "music.dropna(inplace=True)"
   ]
  },
  {
   "cell_type": "markdown",
   "metadata": {},
   "source": [
    "#### Checking unique  ids "
   ]
  },
  {
   "cell_type": "code",
   "execution_count": 6,
   "metadata": {},
   "outputs": [
    {
     "data": {
      "text/plain": [
       "89740"
      ]
     },
     "execution_count": 6,
     "metadata": {},
     "output_type": "execute_result"
    }
   ],
   "source": [
    "music['track_id'].nunique()"
   ]
  },
  {
   "cell_type": "markdown",
   "metadata": {},
   "source": [
    "#### duplicate values"
   ]
  },
  {
   "cell_type": "code",
   "execution_count": 7,
   "metadata": {},
   "outputs": [
    {
     "name": "stdout",
     "output_type": "stream",
     "text": [
      "(40900, 20)\n"
     ]
    },
    {
     "data": {
      "text/plain": [
       "track_id\n",
       "001APMDOl3qtx1526T11n1    2\n",
       "001YQlnDSduXd5LgBd66gT    2\n",
       "003vvx7Niy0yvhvHt4a68B    3\n",
       "004h8smbIoAkUNDJvVKwkG    2\n",
       "006rHBBNLJMpQs8fRC2GDe    3\n",
       "                         ..\n",
       "7ztSVy67w9rXpKg5L2zN5l    2\n",
       "7zubR9uYAWjb5KPZTMm85e    4\n",
       "7zumacGldlmxpoP8bpaeLe    2\n",
       "7zv2vmZq8OjS54BxFzI2wM    2\n",
       "7zwn1eykZtZ5LODrf7c0tS    3\n",
       "Name: track_id, Length: 16641, dtype: int64"
      ]
     },
     "execution_count": 7,
     "metadata": {},
     "output_type": "execute_result"
    }
   ],
   "source": [
    "duplicated = music[music['track_id'].duplicated(keep = False)]\n",
    "print(duplicated.shape)\n",
    "\n",
    "\n",
    "duplicated.groupby('track_id')['track_id'].count()"
   ]
  },
  {
   "cell_type": "markdown",
   "metadata": {},
   "source": [
    "The dataset consists of `113,999 rows`, but there are only `89,741 unique track IDs`, indicating that there are duplicate values present. Upon further investigation, we discovered that there are 16,641 distinct songs that appear multiple times in the dataset. To proceed with our analysis, it is necessary to eliminate these duplicate instances and clean the data."
   ]
  },
  {
   "cell_type": "markdown",
   "metadata": {},
   "source": [
    "#### drop duplicate rows"
   ]
  },
  {
   "cell_type": "code",
   "execution_count": 8,
   "metadata": {},
   "outputs": [
    {
     "data": {
      "text/plain": [
       "0"
      ]
     },
     "execution_count": 8,
     "metadata": {},
     "output_type": "execute_result"
    }
   ],
   "source": [
    "#drop duplicates\n",
    "music = music[music['track_id'].duplicated(keep = 'first') == False]\n",
    "\n",
    "#recheck for duplicate items\n",
    "music.duplicated().sum()"
   ]
  },
  {
   "cell_type": "markdown",
   "metadata": {},
   "source": [
    "#### We also observed duplicate tracks from the artists and track name but with different album names "
   ]
  },
  {
   "cell_type": "code",
   "execution_count": 9,
   "metadata": {},
   "outputs": [
    {
     "data": {
      "text/plain": [
       "58303"
      ]
     },
     "execution_count": 9,
     "metadata": {},
     "output_type": "execute_result"
    }
   ],
   "source": [
    "music.artists.duplicated().sum()"
   ]
  },
  {
   "cell_type": "code",
   "execution_count": 10,
   "metadata": {},
   "outputs": [
    {
     "data": {
      "text/plain": [
       "16132"
      ]
     },
     "execution_count": 10,
     "metadata": {},
     "output_type": "execute_result"
    }
   ],
   "source": [
    "music.track_name.duplicated().sum()"
   ]
  },
  {
   "cell_type": "markdown",
   "metadata": {},
   "source": [
    "An artists may have different songs in the dataset, hence the rate of duplicates also the same can apply to track_names ( different artists can use thesame track names). To eradicate duplicates, we will subset the artists, track_name to investigate further."
   ]
  },
  {
   "cell_type": "code",
   "execution_count": 11,
   "metadata": {},
   "outputs": [
    {
     "data": {
      "text/plain": [
       "8397"
      ]
     },
     "execution_count": 11,
     "metadata": {},
     "output_type": "execute_result"
    }
   ],
   "source": [
    "col = ['artists', 'track_name']\n",
    "music[col].duplicated().sum()"
   ]
  },
  {
   "cell_type": "markdown",
   "metadata": {},
   "source": [
    "We found `361` tracks where artists and track_names are duplicates. An artists could not possibly release thesame song with the same album and track name more than once except its a remix of that song. Hence, we will drop all tracks in this column."
   ]
  },
  {
   "cell_type": "code",
   "execution_count": 12,
   "metadata": {},
   "outputs": [
    {
     "data": {
      "text/plain": [
       "(89740, 20)"
      ]
     },
     "execution_count": 12,
     "metadata": {},
     "output_type": "execute_result"
    }
   ],
   "source": [
    "music.shape"
   ]
  },
  {
   "cell_type": "code",
   "execution_count": 13,
   "metadata": {},
   "outputs": [
    {
     "data": {
      "text/plain": [
       "0"
      ]
     },
     "execution_count": 13,
     "metadata": {},
     "output_type": "execute_result"
    }
   ],
   "source": [
    "music = music.drop_duplicates(subset=col, keep='first')\n",
    "music[col].duplicated().sum()"
   ]
  },
  {
   "cell_type": "code",
   "execution_count": 14,
   "metadata": {},
   "outputs": [
    {
     "data": {
      "text/plain": [
       "(81343, 20)"
      ]
     },
     "execution_count": 14,
     "metadata": {},
     "output_type": "execute_result"
    }
   ],
   "source": [
    "#here's the shape of our new dataset\n",
    "music.shape"
   ]
  },
  {
   "cell_type": "code",
   "execution_count": 15,
   "metadata": {},
   "outputs": [
    {
     "name": "stdout",
     "output_type": "stream",
     "text": [
      "<class 'pandas.core.frame.DataFrame'>\n",
      "Int64Index: 81343 entries, 0 to 113999\n",
      "Data columns (total 20 columns):\n",
      " #   Column            Non-Null Count  Dtype  \n",
      "---  ------            --------------  -----  \n",
      " 0   track_id          81343 non-null  object \n",
      " 1   artists           81343 non-null  object \n",
      " 2   album_name        81343 non-null  object \n",
      " 3   track_name        81343 non-null  object \n",
      " 4   popularity        81343 non-null  int64  \n",
      " 5   duration_ms       81343 non-null  int64  \n",
      " 6   explicit          81343 non-null  bool   \n",
      " 7   danceability      81343 non-null  float64\n",
      " 8   energy            81343 non-null  float64\n",
      " 9   key               81343 non-null  int64  \n",
      " 10  loudness          81343 non-null  float64\n",
      " 11  mode              81343 non-null  int64  \n",
      " 12  speechiness       81343 non-null  float64\n",
      " 13  acousticness      81343 non-null  float64\n",
      " 14  instrumentalness  81343 non-null  float64\n",
      " 15  liveness          81343 non-null  float64\n",
      " 16  valence           81343 non-null  float64\n",
      " 17  tempo             81343 non-null  float64\n",
      " 18  time_signature    81343 non-null  int64  \n",
      " 19  track_genre       81343 non-null  object \n",
      "dtypes: bool(1), float64(9), int64(5), object(5)\n",
      "memory usage: 12.5+ MB\n"
     ]
    }
   ],
   "source": [
    "music.info()"
   ]
  },
  {
   "cell_type": "code",
   "execution_count": 16,
   "metadata": {},
   "outputs": [
    {
     "data": {
      "text/html": [
       "<div>\n",
       "<style scoped>\n",
       "    .dataframe tbody tr th:only-of-type {\n",
       "        vertical-align: middle;\n",
       "    }\n",
       "\n",
       "    .dataframe tbody tr th {\n",
       "        vertical-align: top;\n",
       "    }\n",
       "\n",
       "    .dataframe thead th {\n",
       "        text-align: right;\n",
       "    }\n",
       "</style>\n",
       "<table border=\"1\" class=\"dataframe\">\n",
       "  <thead>\n",
       "    <tr style=\"text-align: right;\">\n",
       "      <th></th>\n",
       "      <th>popularity</th>\n",
       "      <th>duration_ms</th>\n",
       "      <th>danceability</th>\n",
       "      <th>energy</th>\n",
       "      <th>key</th>\n",
       "      <th>loudness</th>\n",
       "      <th>mode</th>\n",
       "      <th>speechiness</th>\n",
       "      <th>acousticness</th>\n",
       "      <th>instrumentalness</th>\n",
       "      <th>liveness</th>\n",
       "      <th>valence</th>\n",
       "      <th>tempo</th>\n",
       "      <th>time_signature</th>\n",
       "    </tr>\n",
       "  </thead>\n",
       "  <tbody>\n",
       "    <tr>\n",
       "      <th>count</th>\n",
       "      <td>81343.000000</td>\n",
       "      <td>8.134300e+04</td>\n",
       "      <td>81343.000000</td>\n",
       "      <td>81343.000000</td>\n",
       "      <td>81343.000000</td>\n",
       "      <td>81343.000000</td>\n",
       "      <td>81343.000000</td>\n",
       "      <td>81343.000000</td>\n",
       "      <td>81343.000000</td>\n",
       "      <td>81343.000000</td>\n",
       "      <td>81343.000000</td>\n",
       "      <td>81343.000000</td>\n",
       "      <td>81343.000000</td>\n",
       "      <td>81343.000000</td>\n",
       "    </tr>\n",
       "    <tr>\n",
       "      <th>mean</th>\n",
       "      <td>34.636392</td>\n",
       "      <td>2.314145e+05</td>\n",
       "      <td>0.559276</td>\n",
       "      <td>0.635025</td>\n",
       "      <td>5.285900</td>\n",
       "      <td>-8.593930</td>\n",
       "      <td>0.632347</td>\n",
       "      <td>0.088993</td>\n",
       "      <td>0.329666</td>\n",
       "      <td>0.184733</td>\n",
       "      <td>0.219723</td>\n",
       "      <td>0.463277</td>\n",
       "      <td>122.144834</td>\n",
       "      <td>3.896967</td>\n",
       "    </tr>\n",
       "    <tr>\n",
       "      <th>std</th>\n",
       "      <td>19.438517</td>\n",
       "      <td>1.164924e+05</td>\n",
       "      <td>0.177747</td>\n",
       "      <td>0.258641</td>\n",
       "      <td>3.557629</td>\n",
       "      <td>5.304797</td>\n",
       "      <td>0.482169</td>\n",
       "      <td>0.116629</td>\n",
       "      <td>0.339961</td>\n",
       "      <td>0.331592</td>\n",
       "      <td>0.198272</td>\n",
       "      <td>0.263383</td>\n",
       "      <td>30.129012</td>\n",
       "      <td>0.456398</td>\n",
       "    </tr>\n",
       "    <tr>\n",
       "      <th>min</th>\n",
       "      <td>0.000000</td>\n",
       "      <td>8.586000e+03</td>\n",
       "      <td>0.000000</td>\n",
       "      <td>0.000000</td>\n",
       "      <td>0.000000</td>\n",
       "      <td>-49.531000</td>\n",
       "      <td>0.000000</td>\n",
       "      <td>0.000000</td>\n",
       "      <td>0.000000</td>\n",
       "      <td>0.000000</td>\n",
       "      <td>0.000000</td>\n",
       "      <td>0.000000</td>\n",
       "      <td>0.000000</td>\n",
       "      <td>0.000000</td>\n",
       "    </tr>\n",
       "    <tr>\n",
       "      <th>25%</th>\n",
       "      <td>21.000000</td>\n",
       "      <td>1.738710e+05</td>\n",
       "      <td>0.446000</td>\n",
       "      <td>0.455000</td>\n",
       "      <td>2.000000</td>\n",
       "      <td>-10.451500</td>\n",
       "      <td>0.000000</td>\n",
       "      <td>0.036100</td>\n",
       "      <td>0.015900</td>\n",
       "      <td>0.000000</td>\n",
       "      <td>0.098500</td>\n",
       "      <td>0.241000</td>\n",
       "      <td>99.408000</td>\n",
       "      <td>4.000000</td>\n",
       "    </tr>\n",
       "    <tr>\n",
       "      <th>50%</th>\n",
       "      <td>35.000000</td>\n",
       "      <td>2.152050e+05</td>\n",
       "      <td>0.573000</td>\n",
       "      <td>0.678000</td>\n",
       "      <td>5.000000</td>\n",
       "      <td>-7.262000</td>\n",
       "      <td>1.000000</td>\n",
       "      <td>0.049100</td>\n",
       "      <td>0.190000</td>\n",
       "      <td>0.000089</td>\n",
       "      <td>0.133000</td>\n",
       "      <td>0.449000</td>\n",
       "      <td>122.030000</td>\n",
       "      <td>4.000000</td>\n",
       "    </tr>\n",
       "    <tr>\n",
       "      <th>75%</th>\n",
       "      <td>49.000000</td>\n",
       "      <td>2.673460e+05</td>\n",
       "      <td>0.690000</td>\n",
       "      <td>0.857000</td>\n",
       "      <td>8.000000</td>\n",
       "      <td>-5.140000</td>\n",
       "      <td>1.000000</td>\n",
       "      <td>0.087000</td>\n",
       "      <td>0.629000</td>\n",
       "      <td>0.153000</td>\n",
       "      <td>0.283000</td>\n",
       "      <td>0.676000</td>\n",
       "      <td>140.128500</td>\n",
       "      <td>4.000000</td>\n",
       "    </tr>\n",
       "    <tr>\n",
       "      <th>max</th>\n",
       "      <td>100.000000</td>\n",
       "      <td>5.237295e+06</td>\n",
       "      <td>0.985000</td>\n",
       "      <td>1.000000</td>\n",
       "      <td>11.000000</td>\n",
       "      <td>4.532000</td>\n",
       "      <td>1.000000</td>\n",
       "      <td>0.965000</td>\n",
       "      <td>0.996000</td>\n",
       "      <td>1.000000</td>\n",
       "      <td>1.000000</td>\n",
       "      <td>0.995000</td>\n",
       "      <td>243.372000</td>\n",
       "      <td>5.000000</td>\n",
       "    </tr>\n",
       "  </tbody>\n",
       "</table>\n",
       "</div>"
      ],
      "text/plain": [
       "         popularity   duration_ms  danceability        energy           key  \\\n",
       "count  81343.000000  8.134300e+04  81343.000000  81343.000000  81343.000000   \n",
       "mean      34.636392  2.314145e+05      0.559276      0.635025      5.285900   \n",
       "std       19.438517  1.164924e+05      0.177747      0.258641      3.557629   \n",
       "min        0.000000  8.586000e+03      0.000000      0.000000      0.000000   \n",
       "25%       21.000000  1.738710e+05      0.446000      0.455000      2.000000   \n",
       "50%       35.000000  2.152050e+05      0.573000      0.678000      5.000000   \n",
       "75%       49.000000  2.673460e+05      0.690000      0.857000      8.000000   \n",
       "max      100.000000  5.237295e+06      0.985000      1.000000     11.000000   \n",
       "\n",
       "           loudness          mode   speechiness  acousticness  \\\n",
       "count  81343.000000  81343.000000  81343.000000  81343.000000   \n",
       "mean      -8.593930      0.632347      0.088993      0.329666   \n",
       "std        5.304797      0.482169      0.116629      0.339961   \n",
       "min      -49.531000      0.000000      0.000000      0.000000   \n",
       "25%      -10.451500      0.000000      0.036100      0.015900   \n",
       "50%       -7.262000      1.000000      0.049100      0.190000   \n",
       "75%       -5.140000      1.000000      0.087000      0.629000   \n",
       "max        4.532000      1.000000      0.965000      0.996000   \n",
       "\n",
       "       instrumentalness      liveness       valence         tempo  \\\n",
       "count      81343.000000  81343.000000  81343.000000  81343.000000   \n",
       "mean           0.184733      0.219723      0.463277    122.144834   \n",
       "std            0.331592      0.198272      0.263383     30.129012   \n",
       "min            0.000000      0.000000      0.000000      0.000000   \n",
       "25%            0.000000      0.098500      0.241000     99.408000   \n",
       "50%            0.000089      0.133000      0.449000    122.030000   \n",
       "75%            0.153000      0.283000      0.676000    140.128500   \n",
       "max            1.000000      1.000000      0.995000    243.372000   \n",
       "\n",
       "       time_signature  \n",
       "count    81343.000000  \n",
       "mean         3.896967  \n",
       "std          0.456398  \n",
       "min          0.000000  \n",
       "25%          4.000000  \n",
       "50%          4.000000  \n",
       "75%          4.000000  \n",
       "max          5.000000  "
      ]
     },
     "execution_count": 16,
     "metadata": {},
     "output_type": "execute_result"
    }
   ],
   "source": [
    "music.describe()"
   ]
  },
  {
   "cell_type": "markdown",
   "metadata": {},
   "source": [
    "### **Duration**"
   ]
  },
  {
   "cell_type": "markdown",
   "metadata": {},
   "source": [
    "####  Convert duration_ms to miinutes and drop the duration column"
   ]
  },
  {
   "cell_type": "code",
   "execution_count": 17,
   "metadata": {},
   "outputs": [],
   "source": [
    "music['duration_minutes'] = round(music['duration_ms'] / 60000,1)"
   ]
  },
  {
   "cell_type": "code",
   "execution_count": 18,
   "metadata": {},
   "outputs": [],
   "source": [
    "music.drop('duration_ms',axis=1, inplace=True)"
   ]
  },
  {
   "cell_type": "code",
   "execution_count": null,
   "metadata": {},
   "outputs": [],
   "source": []
  },
  {
   "cell_type": "code",
   "execution_count": 19,
   "metadata": {},
   "outputs": [
    {
     "data": {
      "image/png": "[encoded data removed]",
      "text/plain": [
       "<Figure size 1080x576 with 1 Axes>"
      ]
     },
     "metadata": {
      "needs_background": "light"
     },
     "output_type": "display_data"
    }
   ],
   "source": [
    "plt.figure(figsize=(15,8))\n",
    "\n",
    "#plot\n",
    "sns.kdeplot(music['duration_minutes'], fill = True)\n",
    "\n",
    "#labels\n",
    "plt.xlabel('Danceability')\n",
    "\n",
    "#show plot\n",
    "plt.show()"
   ]
  },
  {
   "cell_type": "markdown",
   "metadata": {},
   "source": [
    "### **Explicit**"
   ]
  },
  {
   "cell_type": "code",
   "execution_count": 20,
   "metadata": {},
   "outputs": [
    {
     "data": {
      "text/plain": [
       "<AxesSubplot:xlabel='explicit', ylabel='count'>"
      ]
     },
     "execution_count": 20,
     "metadata": {},
     "output_type": "execute_result"
    },
    {
     "data": {
      "image/png": "[encoded data removed]",
      "text/plain": [
       "<Figure size 432x288 with 1 Axes>"
      ]
     },
     "metadata": {
      "needs_background": "light"
     },
     "output_type": "display_data"
    }
   ],
   "source": [
    "sns.countplot(data=music, x='explicit')"
   ]
  },
  {
   "cell_type": "markdown",
   "metadata": {},
   "source": [
    "Incorporating songs featuring explicit content into a playlist for a corporate event differs from a personal or informal gathering. Corporate gatherings are designed to cultivate a professional and inclusive atmosphere. The inclusion of explicit content in songs may run counter to the intended tone of the event. In this context, it becomes crucial to uphold a standard of professionalism and ensure that the music selection aligns harmoniously with the company's core values and the expectations of the attendees.\n",
    "\n",
    "#### In that case, we will drop all rows with explicit contents"
   ]
  },
  {
   "cell_type": "code",
   "execution_count": 21,
   "metadata": {},
   "outputs": [
    {
     "data": {
      "text/plain": [
       "False    74385\n",
       "Name: explicit, dtype: int64"
      ]
     },
     "execution_count": 21,
     "metadata": {},
     "output_type": "execute_result"
    }
   ],
   "source": [
    "#dropping all rows with explicit contents\n",
    "music.drop(music[music['explicit'] == True].index, inplace=True)\n",
    "\n",
    "#observing changes\n",
    "music.explicit.value_counts()"
   ]
  },
  {
   "cell_type": "markdown",
   "metadata": {},
   "source": [
    "We also found a song titled `Bitches` that contain explicit content. This track will be dropped"
   ]
  },
  {
   "cell_type": "code",
   "execution_count": 22,
   "metadata": {},
   "outputs": [
    {
     "data": {
      "text/html": [
       "<div>\n",
       "<style scoped>\n",
       "    .dataframe tbody tr th:only-of-type {\n",
       "        vertical-align: middle;\n",
       "    }\n",
       "\n",
       "    .dataframe tbody tr th {\n",
       "        vertical-align: top;\n",
       "    }\n",
       "\n",
       "    .dataframe thead th {\n",
       "        text-align: right;\n",
       "    }\n",
       "</style>\n",
       "<table border=\"1\" class=\"dataframe\">\n",
       "  <thead>\n",
       "    <tr style=\"text-align: right;\">\n",
       "      <th></th>\n",
       "      <th>track_id</th>\n",
       "      <th>artists</th>\n",
       "      <th>album_name</th>\n",
       "      <th>track_name</th>\n",
       "      <th>popularity</th>\n",
       "      <th>explicit</th>\n",
       "      <th>danceability</th>\n",
       "      <th>energy</th>\n",
       "      <th>key</th>\n",
       "      <th>loudness</th>\n",
       "      <th>mode</th>\n",
       "      <th>speechiness</th>\n",
       "      <th>acousticness</th>\n",
       "      <th>instrumentalness</th>\n",
       "      <th>liveness</th>\n",
       "      <th>valence</th>\n",
       "      <th>tempo</th>\n",
       "      <th>time_signature</th>\n",
       "      <th>track_genre</th>\n",
       "      <th>duration_minutes</th>\n",
       "    </tr>\n",
       "  </thead>\n",
       "  <tbody>\n",
       "    <tr>\n",
       "      <th>13353</th>\n",
       "      <td>4Y9XI2RRd9w2Ll0fYVBduE</td>\n",
       "      <td>dj funk</td>\n",
       "      <td>Dance Mania: Ghetto Madness</td>\n",
       "      <td>Bitches</td>\n",
       "      <td>10</td>\n",
       "      <td>False</td>\n",
       "      <td>0.981</td>\n",
       "      <td>0.776</td>\n",
       "      <td>11</td>\n",
       "      <td>-7.288</td>\n",
       "      <td>0</td>\n",
       "      <td>0.259</td>\n",
       "      <td>0.0307</td>\n",
       "      <td>0.000005</td>\n",
       "      <td>0.185</td>\n",
       "      <td>0.727</td>\n",
       "      <td>128.106</td>\n",
       "      <td>4</td>\n",
       "      <td>chicago-house</td>\n",
       "      <td>2.7</td>\n",
       "    </tr>\n",
       "  </tbody>\n",
       "</table>\n",
       "</div>"
      ],
      "text/plain": [
       "                     track_id  artists                   album_name  \\\n",
       "13353  4Y9XI2RRd9w2Ll0fYVBduE  dj funk  Dance Mania: Ghetto Madness   \n",
       "\n",
       "      track_name  popularity  explicit  danceability  energy  key  loudness  \\\n",
       "13353    Bitches          10     False         0.981   0.776   11    -7.288   \n",
       "\n",
       "       mode  speechiness  acousticness  instrumentalness  liveness  valence  \\\n",
       "13353     0        0.259        0.0307          0.000005     0.185    0.727   \n",
       "\n",
       "         tempo  time_signature    track_genre  duration_minutes  \n",
       "13353  128.106               4  chicago-house               2.7  "
      ]
     },
     "execution_count": 22,
     "metadata": {},
     "output_type": "execute_result"
    }
   ],
   "source": [
    "music[music['track_name'] == 'Bitches']"
   ]
  },
  {
   "cell_type": "markdown",
   "metadata": {},
   "source": [
    "#### drop song with Explicit title"
   ]
  },
  {
   "cell_type": "code",
   "execution_count": 23,
   "metadata": {},
   "outputs": [],
   "source": [
    "music = music[music['track_name'] != 'Bitches']"
   ]
  },
  {
   "cell_type": "code",
   "execution_count": 24,
   "metadata": {},
   "outputs": [
    {
     "data": {
      "text/html": [
       "<div>\n",
       "<style scoped>\n",
       "    .dataframe tbody tr th:only-of-type {\n",
       "        vertical-align: middle;\n",
       "    }\n",
       "\n",
       "    .dataframe tbody tr th {\n",
       "        vertical-align: top;\n",
       "    }\n",
       "\n",
       "    .dataframe thead th {\n",
       "        text-align: right;\n",
       "    }\n",
       "</style>\n",
       "<table border=\"1\" class=\"dataframe\">\n",
       "  <thead>\n",
       "    <tr style=\"text-align: right;\">\n",
       "      <th></th>\n",
       "      <th>track_id</th>\n",
       "      <th>artists</th>\n",
       "      <th>album_name</th>\n",
       "      <th>track_name</th>\n",
       "      <th>popularity</th>\n",
       "      <th>explicit</th>\n",
       "      <th>danceability</th>\n",
       "      <th>energy</th>\n",
       "      <th>key</th>\n",
       "      <th>loudness</th>\n",
       "      <th>mode</th>\n",
       "      <th>speechiness</th>\n",
       "      <th>acousticness</th>\n",
       "      <th>instrumentalness</th>\n",
       "      <th>liveness</th>\n",
       "      <th>valence</th>\n",
       "      <th>tempo</th>\n",
       "      <th>time_signature</th>\n",
       "      <th>track_genre</th>\n",
       "      <th>duration_minutes</th>\n",
       "    </tr>\n",
       "  </thead>\n",
       "  <tbody>\n",
       "  </tbody>\n",
       "</table>\n",
       "</div>"
      ],
      "text/plain": [
       "Empty DataFrame\n",
       "Columns: [track_id, artists, album_name, track_name, popularity, explicit, danceability, energy, key, loudness, mode, speechiness, acousticness, instrumentalness, liveness, valence, tempo, time_signature, track_genre, duration_minutes]\n",
       "Index: []"
      ]
     },
     "execution_count": 24,
     "metadata": {},
     "output_type": "execute_result"
    }
   ],
   "source": [
    "#confirm if song has been dropped\n",
    "music[music['track_name'] == 'Bitches']"
   ]
  },
  {
   "cell_type": "markdown",
   "metadata": {},
   "source": [
    "### **Genre**"
   ]
  },
  {
   "cell_type": "code",
   "execution_count": null,
   "metadata": {},
   "outputs": [],
   "source": [
    "#convert genres to list and print set to return unique values\n",
    "unique_genre = set(music.track_genre.tolist())\n",
    "print(unique_genre)"
   ]
  },
  {
   "cell_type": "markdown",
   "metadata": {},
   "source": [
    "Through visual observation, genres unusual genres like `study, sleep,sad, children, kids` and metal-like genres like `death-metal, metalcore and heavy-metal` do not fit into danceability for a general audience hence we drop them."
   ]
  },
  {
   "cell_type": "code",
   "execution_count": null,
   "metadata": {},
   "outputs": [],
   "source": [
    "genres_to_drop = ['study', 'sleep', 'sad', 'children', 'kids', 'death-metal', 'metalcore', 'heavy-metal']\n",
    "\n",
    "\n",
    "#drop genres\n",
    "music = music[music.track_genre.isin(genres_to_drop) == False]\n",
    "\n",
    "music.sample(5)"
   ]
  },
  {
   "cell_type": "markdown",
   "metadata": {},
   "source": [
    "While observing the bottom rows of the above output, we observed that most artists name are more common with gospel bands. \n"
   ]
  },
  {
   "cell_type": "code",
   "execution_count": null,
   "metadata": {},
   "outputs": [],
   "source": [
    "world_music = music[music['track_genre'] == 'world-music']\n",
    "artists_name = world_music.artists.tolist()\n",
    "print(artists_name)"
   ]
  },
  {
   "cell_type": "markdown",
   "metadata": {},
   "source": [
    "#### Based on the findings above, it can be inferred that a major portion of the songs within the world music genres fall under the gospel category. While our model might categorize them as danceable, it's important to note that gospel songs may not be universally suitable, as they can be considered offensive to certain demographics. To mitigate this issue, we will exclude the world-music genre from consideration."
   ]
  },
  {
   "cell_type": "code",
   "execution_count": null,
   "metadata": {},
   "outputs": [],
   "source": [
    "music = music[music['track_genre'] != 'world-music']\n",
    "music"
   ]
  },
  {
   "cell_type": "code",
   "execution_count": null,
   "metadata": {},
   "outputs": [],
   "source": []
  },
  {
   "cell_type": "markdown",
   "metadata": {},
   "source": [
    "## The Data\n",
    "\n",
    "| Column     | Description              |\n",
    "|------------|--------------------------|\n",
    "| `track_id` | The Spotify ID number of the track. |\n",
    "| `artists` | Names of the artists who performed the track, separated by a `;` if there's more than one.|\n",
    "| `album_name` | The name of the album that includes the track.|\n",
    "| `track_name` | The name of the track.|\n",
    "| `popularity` | Numerical value ranges from `0` to `100`, with `100` being the highest popularity. This is calculated based on the number of times the track has been played recently, with more recent plays contributing more to the score. Duplicate tracks are scored independently.|\n",
    "| `duration_ms` | The length of the track, measured in milliseconds.|\n",
    "| `explicit` | Indicates whether the track contains explicit lyrics. `true` means it does, `false` means it does not or it's unknown.|\n",
    "| `danceability` | A score ranges between `0.0` and `1.0` that represents the track's suitability for dancing. This is calculated by algorithm and is determined by factors like tempo, rhythm stability, beat strength, and regularity.|\n",
    "| `energy` | A score ranges between `0.0` and `1.0` indicating the track's intensity and activity level. Energetic tracks tend to be fast, loud, and noisy.|\n",
    "| `key` | The key the track is in. Integers map to pitches using standard Pitch class notation. E.g.`0 = C`, `1 = C♯/D♭`, `2 = D`, and so on. If no key was detected, the value is `-1`.| \n",
    "| `loudness` | The overall loudness, measured in decibels (dB).|\n",
    "| `mode` |  The modality of a track, represented as `1` for major and `0` for minor.| \n",
    "| `speechiness` | Measures the amount of spoken words in a track. A value close to `1.0` denotes speech-based content, while `0.33` to `0.66` indicates a mix of speech and music like rap. Values below `0.33` are usually music and non-speech tracks.| \n",
    "| `acousticness` | A confidence measure ranges from `0.0` to `1.0`, with `1.0` representing the highest confidence that the track is acoustic.|\n",
    "| `instrumentalness` | Instrumentalness estimates the likelihood of a track being instrumental. Non-lyrical sounds such as \"ooh\" and \"aah\" are considered instrumental, whereas rap or spoken word tracks are classified as \"vocal\". A value closer to `1.0` indicates a higher probability that the track lacks vocal content.|\n",
    "| `liveness` | A measure of the probability that the track was performed live. Scores above `0.8` indicate a high likelihood of the track being live.|\n",
    "| `valence` | A score from `0.0` to `1.0` representing the track's positiveness. High scores suggest a more positive or happier track.|\n",
    "| `tempo` | The track's estimated tempo, measured in beats per minute (BPM).|\n",
    "| `time_signature` | An estimate of the track's time signature (meter), which is a notational convention to specify how many beats are in each bar (or measure). The time signature ranges from `3` to `7` indicating time signatures of `3/4`, to `7/4`.|\n",
    "| `track_genre` |  The genre of the track.|\n",
    "\n"
   ]
  },
  {
   "cell_type": "markdown",
   "metadata": {},
   "source": [
    "Problem Definition for the Spotify Dataset:\n",
    "\n",
    "The problem at hand is to analyze and extract valuable insights from the Spotify dataset, which contains a wide array of music-related information. This dataset offers a rich source of data about songs, artists, genres, and user interactions. The primary objectives and problem areas to explore include:\n",
    "\n",
    "1. **Music Recommendation:**\n",
    "   - Develop a recommendation system that recommends songs or playlist to an audience. Evaluate the system's accuracy and performance.\n",
    "\n",
    "2. **Genre Classification:**\n",
    "   - Create a model to accurately classify songs into their respective genres based on audio features, lyrics, or other relevant information.\n",
    "\n",
    "3. **User Behavior Analysis:**\n",
    "   - Explore and understand user behavior patterns, such as the most popular genres, time-based trends, and the impact of different features on user engagement.\n",
    "\n",
    "4. **Feature Engineering:**\n",
    "   - Investigate the significance of various audio features (e.g., tempo, valence, energy ) in predicting song danceability.\n",
    "\n",
    "5. **Playlist Generation:**\n",
    "   - Develop algorithms to automatically generate playlists that cater to specific moods, activities, or genres, considering factors like diversity and cohesion.\n",
    "\n",
    "6. **Song Popularity Prediction:**\n",
    "   - Build models to predict the popularity of songs based on their characteristics, release date, and artist information. Evaluate the accuracy of these predictions.\n",
    "\n",
    "7. **Sentiment Analysis:**\n",
    "   - Perform sentiment analysis on user-generated content, such as song reviews or comments, to gauge public sentiment towards artists, albums, or tracks.\n",
    "\n",
    "8. **Market Insights:**\n",
    "   - Extract insights for music industry stakeholders, including artists, record labels, and marketers, regarding trends in music consumption, emerging genres, and audience preferences.\n",
    "\n",
    "9. **Lyrics Analysis:**\n",
    "   - Analyze song lyrics to identify themes, sentiments, and topics that resonate with listeners. Investigate correlations between lyrical content and song popularity.\n",
    "\n",
    "10. **Bias and Fairness:**\n",
    "    - Assess and address potential bias in recommendation systems, ensuring that they provide diverse and inclusive music suggestions that cater to a broad user demographic.\n",
    "\n",
    "11. **Collaborative Projects:**\n",
    "    - Collaborate with artists or music producers to use the dataset for creative purposes, such as generating music, remixing tracks, or creating innovative interactive experiences.\n",
    "\n",
    "The ultimate goal is to leverage the Spotify dataset to derive meaningful insights, improve user experiences, and contribute to the music industry's growth and innovation. This involves employing data analysis, machine learning, and domain expertise to address various challenges and opportunities within the music ecosystem."
   ]
  },
  {
   "cell_type": "markdown",
   "metadata": {},
   "source": [
    "# Data Preparation"
   ]
  },
  {
   "cell_type": "markdown",
   "metadata": {},
   "source": [
    "### Danceability\n",
    "\n",
    "We want our songs to be within a danceable range, so we will select songs above the average danceability value"
   ]
  },
  {
   "cell_type": "code",
   "execution_count": null,
   "metadata": {},
   "outputs": [],
   "source": [
    "music.danceability.describe()"
   ]
  },
  {
   "cell_type": "markdown",
   "metadata": {},
   "source": [
    "Select songs above the average danceability value"
   ]
  },
  {
   "cell_type": "code",
   "execution_count": null,
   "metadata": {},
   "outputs": [],
   "source": [
    "music  = music[music['danceability'] >= 0.55]\n",
    "music"
   ]
  },
  {
   "cell_type": "markdown",
   "metadata": {},
   "source": [
    "### Energy"
   ]
  },
  {
   "cell_type": "markdown",
   "metadata": {},
   "source": [
    "Since energy is the  intensity level of a song, this could imply that the higher the energy, the better the valence and the  more danceable the song will be. \n",
    "\n",
    "Although, this could not be depicted by the correlation plot, It was observed practically. This is to say that, there is a non-linear correlation between energy, valence, and danceability."
   ]
  },
  {
   "cell_type": "markdown",
   "metadata": {},
   "source": [
    "Based on this observation, we will select songs above average energy value"
   ]
  },
  {
   "cell_type": "code",
   "execution_count": null,
   "metadata": {},
   "outputs": [],
   "source": [
    "music.energy.describe()"
   ]
  },
  {
   "cell_type": "code",
   "execution_count": null,
   "metadata": {},
   "outputs": [],
   "source": [
    "music  = music[music['energy'] >= 0.66]\n",
    "music"
   ]
  },
  {
   "cell_type": "markdown",
   "metadata": {},
   "source": [
    "### Speechiness"
   ]
  },
  {
   "cell_type": "markdown",
   "metadata": {},
   "source": [
    "Speechiness measures the amount of spoken words in a track. A value close to `1.0` denotes speech-based content, while `0.33` to `0.66` indicates a mix of speech and music like rap. Values below `0.33` are usually music and non-speech tracks. We only select tracks based on speechiness below 0.66 to contain song and rap music."
   ]
  },
  {
   "cell_type": "code",
   "execution_count": null,
   "metadata": {},
   "outputs": [],
   "source": [
    "music = music[music['speechiness'] < 0.66]\n",
    "music"
   ]
  },
  {
   "cell_type": "code",
   "execution_count": null,
   "metadata": {},
   "outputs": [],
   "source": []
  },
  {
   "cell_type": "markdown",
   "metadata": {},
   "source": [
    "### Duration"
   ]
  },
  {
   "cell_type": "code",
   "execution_count": null,
   "metadata": {},
   "outputs": [],
   "source": [
    "music.duration_minutes.describe()"
   ]
  },
  {
   "cell_type": "markdown",
   "metadata": {},
   "source": [
    "The duration description shows that the lowest track duration is 50 secs and the maximum duration is 87  minutes. We will observe this using a scatter plot"
   ]
  },
  {
   "cell_type": "code",
   "execution_count": null,
   "metadata": {},
   "outputs": [],
   "source": [
    "plt.figure(figsize=(8,8))\n",
    "sns.scatterplot(music.duration_minutes)"
   ]
  },
  {
   "cell_type": "markdown",
   "metadata": {},
   "source": [
    "The scatter plot shows that there are many outliers in based on their duration. We will define our outliers in duration based  on the mean value which means songs below `4 minutes will be considered outliers` and dropped."
   ]
  },
  {
   "cell_type": "code",
   "execution_count": null,
   "metadata": {},
   "outputs": [],
   "source": [
    "music = music[music['duration_minutes'] <= 4.0]"
   ]
  },
  {
   "cell_type": "markdown",
   "metadata": {},
   "source": [
    "### Instrumetalness"
   ]
  },
  {
   "cell_type": "markdown",
   "metadata": {},
   "source": [
    "Instrumentalness is the likelihood of a track lacking vocal content. Values closer to `1.0` indicates a higher probability that the track lacks vocal content. Songs without vocal content are still danceable if played for a short period of time. "
   ]
  },
  {
   "cell_type": "code",
   "execution_count": null,
   "metadata": {},
   "outputs": [],
   "source": [
    "music.instrumentalness.describe()"
   ]
  },
  {
   "cell_type": "markdown",
   "metadata": {},
   "source": [
    "We will drop songs below the mean of the instrumentalness. This will help us filter out songs with too much speechy content that lacks instrrumentalness."
   ]
  },
  {
   "cell_type": "code",
   "execution_count": null,
   "metadata": {},
   "outputs": [],
   "source": [
    "music = music[music['instrumentalness'] <= 0.135]\n",
    "music.head()"
   ]
  },
  {
   "cell_type": "markdown",
   "metadata": {},
   "source": [
    "In situations demanding an unobtrusive musical backdrop, such as speeches or award presentations, tracks characterized by a pronounced instrumentalness can prove particularly fitting. However, our specific objective centers around crafting a vibrant playlist conducive to lively summer parties. Consequently, we opted to exclude songs exhibiting a heightened level of instrumentalness."
   ]
  },
  {
   "cell_type": "markdown",
   "metadata": {},
   "source": [
    "### Valence\n",
    " \n",
    "\n",
    "#### removing songs with low valence by mean"
   ]
  },
  {
   "cell_type": "code",
   "execution_count": null,
   "metadata": {},
   "outputs": [],
   "source": [
    "music.valence.describe()"
   ]
  },
  {
   "cell_type": "code",
   "execution_count": null,
   "metadata": {},
   "outputs": [],
   "source": [
    "#remove songs with lower danceability\n",
    "music = music[music['valence'] >= 0.6]\n",
    "\n",
    "music"
   ]
  },
  {
   "cell_type": "markdown",
   "metadata": {},
   "source": [
    "Valence in music represents its emotional tone, affecting how it makes listeners feel. It's a key element of emotional response. Higher valence means a more positive song, often invoking joy or happiness. Lower valence suggests emotions like sadness. Given our goal of creating a cheerful summer party playlist, we'll exclude songs with strongly low valence to ensure a positive atmosphere."
   ]
  },
  {
   "cell_type": "markdown",
   "metadata": {},
   "source": [
    "### Tempo\n"
   ]
  },
  {
   "cell_type": "code",
   "execution_count": null,
   "metadata": {},
   "outputs": [],
   "source": [
    "music.tempo.describe()"
   ]
  },
  {
   "cell_type": "markdown",
   "metadata": {},
   "source": [
    "#### Observing songs above our average tempo."
   ]
  },
  {
   "cell_type": "code",
   "execution_count": null,
   "metadata": {},
   "outputs": [],
   "source": [
    "music[music['tempo'] < 124].head(10)"
   ]
  },
  {
   "cell_type": "markdown",
   "metadata": {},
   "source": [
    "The above songs were played and it was observe that the tempo is relative to the genre so, we "
   ]
  },
  {
   "cell_type": "code",
   "execution_count": null,
   "metadata": {},
   "outputs": [],
   "source": [
    "music=music[music['tempo'] > 124]\n",
    "music"
   ]
  },
  {
   "cell_type": "code",
   "execution_count": null,
   "metadata": {},
   "outputs": [],
   "source": []
  },
  {
   "cell_type": "markdown",
   "metadata": {},
   "source": [
    "# **Univariate Analysis**"
   ]
  },
  {
   "cell_type": "markdown",
   "metadata": {},
   "source": [
    "#### What is the distribution of Genres in this dataset?"
   ]
  },
  {
   "cell_type": "code",
   "execution_count": null,
   "metadata": {},
   "outputs": [],
   "source": [
    "plt.figure(figsize=(18,10))\n",
    "music.track_genre.value_counts().plot(kind='bar')\n",
    "\n",
    "\n",
    "plt.ylabel('Genre Count')\n",
    "plt.show()"
   ]
  },
  {
   "cell_type": "markdown",
   "metadata": {},
   "source": [
    "The tango genre ( a genre of music from Argentina) appears the most in the dataset."
   ]
  },
  {
   "cell_type": "markdown",
   "metadata": {},
   "source": [
    "### Danceability"
   ]
  },
  {
   "cell_type": "code",
   "execution_count": null,
   "metadata": {},
   "outputs": [],
   "source": [
    "plt.figure(figsize=(15,8))\n",
    "\n",
    "#plot\n",
    "sns.kdeplot(music['danceability'], fill = True)\n",
    "\n",
    "#labels\n",
    "plt.xlabel('Danceability')\n",
    "\n",
    "#show plot\n",
    "plt.show()"
   ]
  },
  {
   "cell_type": "markdown",
   "metadata": {},
   "source": [
    "The danceability peaked at `0.6`. Danceability values "
   ]
  },
  {
   "cell_type": "code",
   "execution_count": null,
   "metadata": {},
   "outputs": [],
   "source": [
    "music.shape"
   ]
  },
  {
   "cell_type": "markdown",
   "metadata": {},
   "source": [
    "### Popularity"
   ]
  },
  {
   "cell_type": "code",
   "execution_count": null,
   "metadata": {},
   "outputs": [],
   "source": [
    "#plot size\n",
    "plt.figure(figsize=(15,8))\n",
    "\n",
    "#plot\n",
    "sns.distplot(music['popularity'])\n",
    "\n",
    "#label\n",
    "plt.xlabel('Popularity')\n",
    "\n",
    "#show plot\n",
    "plt.show()"
   ]
  },
  {
   "cell_type": "markdown",
   "metadata": {},
   "source": [
    "A lot of songs fall within 0 to 10, while the peak of the popularity is between 40 and 50. Though a track popularity of 0 maybe unpopular but we \n",
    "still factor them into our playlist because unpopular songs give good vibe when packed with good energy and rhythm."
   ]
  },
  {
   "cell_type": "code",
   "execution_count": null,
   "metadata": {},
   "outputs": [],
   "source": []
  },
  {
   "cell_type": "markdown",
   "metadata": {},
   "source": [
    "### Energy"
   ]
  },
  {
   "cell_type": "code",
   "execution_count": null,
   "metadata": {},
   "outputs": [],
   "source": [
    "#plot size\n",
    "plt.figure(figsize=(15,8))\n",
    "\n",
    "#plot\n",
    "sns.kdeplot(music['energy'], fill = True)\n",
    "\n",
    "#label\n",
    "plt.xlabel('Energy')\n",
    "\n",
    "#show plot\n",
    "plt.show()"
   ]
  },
  {
   "cell_type": "code",
   "execution_count": null,
   "metadata": {},
   "outputs": [],
   "source": [
    "music['energy'].describe()"
   ]
  },
  {
   "cell_type": "markdown",
   "metadata": {},
   "source": [
    "The energy variable has a lot of values between 0.7 and 0.9. Hence, the multiple peaks although they values differ from each other"
   ]
  },
  {
   "cell_type": "code",
   "execution_count": null,
   "metadata": {},
   "outputs": [],
   "source": []
  },
  {
   "cell_type": "markdown",
   "metadata": {},
   "source": [
    "### Tempo"
   ]
  },
  {
   "cell_type": "code",
   "execution_count": null,
   "metadata": {},
   "outputs": [],
   "source": [
    "#plot size\n",
    "plt.figure(figsize=(15,8))\n",
    "\n",
    "#plot\n",
    "sns.kdeplot(music, x=music['tempo'], fill=True)\n",
    "\n",
    "#label\n",
    "plt.xlabel('Tempo')\n",
    "\n",
    "#show plot\n",
    "plt.show()"
   ]
  },
  {
   "cell_type": "markdown",
   "metadata": {},
   "source": [
    "The tempo of our song averages at 125 "
   ]
  },
  {
   "cell_type": "code",
   "execution_count": null,
   "metadata": {},
   "outputs": [],
   "source": [
    "#plot size\n",
    "plt.figure(figsize=(15,8))\n",
    "\n",
    "#plot\n",
    "sns.kdeplot( x=music['valence'], fill=True)\n",
    "\n",
    "#label\n",
    "plt.xlabel('Valence')\n",
    "\n",
    "plt.show()"
   ]
  },
  {
   "cell_type": "markdown",
   "metadata": {},
   "source": [
    "## **Multivariate Analysis**"
   ]
  },
  {
   "cell_type": "code",
   "execution_count": null,
   "metadata": {},
   "outputs": [],
   "source": []
  },
  {
   "cell_type": "markdown",
   "metadata": {},
   "source": [
    "### Is there a linear relationship between variables in the dataset?\n",
    "Observing the correlation between variables"
   ]
  },
  {
   "cell_type": "code",
   "execution_count": null,
   "metadata": {},
   "outputs": [],
   "source": [
    "plt.figure(figsize=(15,8))\n",
    "\n",
    "corr_plot = music.drop('explicit', axis=1)\n",
    "sns.heatmap(corr_plot.corr(), annot=True, cmap='Paired')"
   ]
  },
  {
   "cell_type": "markdown",
   "metadata": {},
   "source": [
    "Yes, there is a linear relationship between variable in the dataset. The map shows a **strong positive correlation** between `energy and loudness` and a **moderate positive correlation** `valence and danceability`. On the otherhand, `energy and acousticness` have a **strong negative correlation**  with `loudness and acousticness` having a **moderate negative correlation** with other columns having little or no correlation.\n"
   ]
  },
  {
   "cell_type": "markdown",
   "metadata": {},
   "source": [
    "#### Energy and Loudness"
   ]
  },
  {
   "cell_type": "code",
   "execution_count": null,
   "metadata": {},
   "outputs": [],
   "source": [
    "# danceable = music.groupby('track_name')['danceability'].mean()\n",
    "#plot size\n",
    "plt.figure(figsize=(15,8))\n",
    "\n",
    "#plot\n",
    "sns.regplot(data=music,  x=music.energy, y=music.loudness)\n",
    "\n",
    "#setting plot title \n",
    "plt.title('Energy vs Loudness')\n",
    "plt.xlabel('Loudness')\n",
    "plt.ylabel('Energy')\n",
    "\n",
    "#display plot\n",
    "plt.show()"
   ]
  },
  {
   "cell_type": "markdown",
   "metadata": {},
   "source": [
    "#### The plot shows there is a positive linear correlation between energy and loudness. This means that, the higher the energy, the louder the track"
   ]
  },
  {
   "cell_type": "markdown",
   "metadata": {},
   "source": [
    "### Danceability and Valence"
   ]
  },
  {
   "cell_type": "code",
   "execution_count": null,
   "metadata": {},
   "outputs": [],
   "source": [
    "# danceable = music.groupby('track_name')['danceability'].mean()\n",
    "#plot size\n",
    "plt.figure(figsize=(15,8))\n",
    "\n",
    "#plot\n",
    "sns.regplot(data=music,  x=music.valence, y=music.danceability)\n",
    "\n",
    "#setting plot title \n",
    "plt.title('Danceability vs Valence')\n",
    "plt.xlabel('Valence')\n",
    "plt.ylabel('Danceability')\n",
    "\n",
    "#display plot\n",
    "plt.show()"
   ]
  },
  {
   "cell_type": "markdown",
   "metadata": {},
   "source": [
    "### Energy and Danceability"
   ]
  },
  {
   "cell_type": "code",
   "execution_count": null,
   "metadata": {},
   "outputs": [],
   "source": [
    "#plot size\n",
    "plt.figure(figsize=(15,8))\n",
    "\n",
    "#plot\n",
    "sns.regplot(data=music,  x=music.acousticness, y=music.energy)\n",
    "\n",
    "#setting plot title \n",
    "plt.title('Energy vs Acousticness')\n",
    "plt.xlabel('Acousticness')\n",
    "plt.ylabel('Energy')\n",
    "\n",
    "#display plot\n",
    "plt.show()"
   ]
  },
  {
   "cell_type": "markdown",
   "metadata": {},
   "source": [
    "### **Artists vs Danceability**"
   ]
  },
  {
   "cell_type": "code",
   "execution_count": null,
   "metadata": {},
   "outputs": [],
   "source": [
    "#plot size\n",
    "plt.figure(figsize=(15,8))\n",
    "\n",
    "#plot\n",
    "sns.barplot(data=music,  x=danceable.sort_values(ascending=False).values[:20], y=danceable.index[:20], orient='h')\n",
    "\n",
    "#setting plot title \n",
    "plt.title('Top 20 danceable tracks')\n",
    "plt.xlabel('Danceability')\n",
    "plt.ylabel('Track Name')\n",
    "\n",
    "#display plot\n",
    "plt.show()"
   ]
  },
  {
   "cell_type": "markdown",
   "metadata": {},
   "source": [
    "### Tempo vs Genre"
   ]
  },
  {
   "cell_type": "code",
   "execution_count": null,
   "metadata": {},
   "outputs": [],
   "source": [
    "tempo_genre = music.groupby('track_genre')['tempo'].mean()\n",
    "#plot size\n",
    "plt.figure(figsize=(15,8))\n",
    "\n",
    "#plot\n",
    "sns.barplot(data=music, y=tempo_genre.index[:20], x=tempo_genre.sort_values(ascending=False).values[:20], orient='h')\n",
    "\n",
    "#setting plot title \n",
    "plt.title('Top 20 Genre by Tempo')\n",
    "plt.xlabel('Average Tempo')\n",
    "plt.ylabel('Track genre')\n",
    "\n",
    "#display plot\n",
    "plt.show()"
   ]
  },
  {
   "cell_type": "markdown",
   "metadata": {},
   "source": [
    "The above chart shows the top 20 genres with the highest tempo. "
   ]
  },
  {
   "cell_type": "code",
   "execution_count": null,
   "metadata": {},
   "outputs": [],
   "source": []
  },
  {
   "cell_type": "markdown",
   "metadata": {},
   "source": [
    "### Which Genre is the most Popular?"
   ]
  },
  {
   "cell_type": "code",
   "execution_count": null,
   "metadata": {},
   "outputs": [],
   "source": [
    "genre_popularity = music.groupby('track_genre')['popularity'].mean()\n",
    "\n",
    "#plot size\n",
    "plt.figure(figsize=(15,8))\n",
    "\n",
    "#plot\n",
    "sns.barplot(data=music, y=genre_popularity.index[:20], x=genre_popularity.sort_values(ascending=False).values[:20], orient='h')\n",
    "\n",
    "#setting plot title \n",
    "plt.title('Top 20 Popular Genre')\n",
    "plt.xlabel('Popularity')\n",
    "plt.ylabel('Track genre')\n",
    "\n",
    "#display plot\n",
    "plt.show()"
   ]
  },
  {
   "cell_type": "markdown",
   "metadata": {},
   "source": [
    "The most popular genre is Acoustic, followed by Afrobeat and others."
   ]
  },
  {
   "cell_type": "markdown",
   "metadata": {},
   "source": [
    "### Which Genre is more danceable? "
   ]
  },
  {
   "cell_type": "code",
   "execution_count": null,
   "metadata": {},
   "outputs": [],
   "source": [
    "genre_danceability = music.groupby('track_genre')['danceability'].mean()\n",
    "\n",
    "#plot size\n",
    "plt.figure(figsize=(15,8))\n",
    "\n",
    "#plot\n",
    "sns.barplot(data=music, y=genre_danceability.index[:20], x=genre_danceability.sort_values(ascending=False).values[:20], orient='h')\n",
    "\n",
    "#setting plot title \n",
    "plt.title('Top 20 Danceable Genres')\n",
    "plt.xlabel('Danceability')\n",
    "plt.ylabel('Track genre')\n",
    "\n",
    "#display plot\n",
    "plt.show()"
   ]
  },
  {
   "cell_type": "code",
   "execution_count": null,
   "metadata": {},
   "outputs": [],
   "source": [
    "music"
   ]
  },
  {
   "cell_type": "code",
   "execution_count": null,
   "metadata": {},
   "outputs": [],
   "source": []
  },
  {
   "cell_type": "markdown",
   "metadata": {},
   "source": [
    "#### drop the above tracks"
   ]
  },
  {
   "cell_type": "code",
   "execution_count": null,
   "metadata": {},
   "outputs": [],
   "source": [
    "grouped = music.groupby('track_name')['danceability'].mean()\n",
    "\n",
    "#plot size\n",
    "plt.figure(figsize = (10,3), dpi = 100)\n",
    "\n",
    "#set the plot\n",
    "sns.barplot(x = grouped.sort_values(ascending = False)[0:20].index, y = grouped.sort_values(ascending = False)[0:20].values)\n",
    "\n",
    "#plot title and labels\n",
    "plt.xlabel('track_name')\n",
    "plt.ylabel('danceability')\n",
    "plt.xticks(rotation = 90)\n",
    "plt.title('20 Most danceable track')\n",
    "\n",
    "#show plot\n",
    "plt.show()"
   ]
  },
  {
   "cell_type": "markdown",
   "metadata": {},
   "source": [
    "Determining the top 10 danceable genres would be beneficial in selecting the ideal genre for our party's song playlist. By analyzing the danceability of different genres, we can identify which genres are most likely to engage and energize the party attendees. This information allows us to curate a playlist that aligns with the desired atmosphere and ensures that the music resonates with the audience, enhancing their overall experience. By prioritizing the top 10 danceable genres, we increase the likelihood of creating a vibrant and enjoyable party atmosphere.\n",
    "Analyzing the danceability of various genres and identifying the top 10 danceable genres is a valuable approach for song selection at our party. This strategy enables us to make informed decisions when choosing the genre for our playlist. By focusing on the genres that have proven to be highly danceable, we can enhance the party's energy levels and encourage attendees to actively participate in dancing and enjoying the music. The selection of these top 10 danceable genres ensures that our song choices align with the preferences of the audience, creating a memorable and enjoyable experience for everyone involved."
   ]
  },
  {
   "cell_type": "code",
   "execution_count": null,
   "metadata": {},
   "outputs": [],
   "source": [
    "grouped = music.groupby('artists')['danceability'].mean()\n",
    "\n",
    "plt.figure(figsize = (10,3), dpi = 100)\n",
    "sns.scatterplot(x = grouped.sort_values(ascending = False)[0:20].index, y = grouped.sort_values(ascending = False)[0:20].values)\n",
    "\n",
    "\n",
    "plt.xlabel('artists')\n",
    "plt.xticks(rotation = 90)\n",
    "plt.ylabel('danceability')\n",
    "plt.title('Top 20 artists with danceable tracks')\n",
    "\n",
    "\n",
    "plt.show()"
   ]
  },
  {
   "cell_type": "markdown",
   "metadata": {},
   "source": [
    "After playing all of these songs, I am thoroughly convinced that these artists have an exceptional collection of party jams. Their music consistently sets the mood and creates an energetic atmosphere that is perfect for any celebration. The songs are lively, catchy, and have a contagious rhythm that keeps the crowd engaged and entertained. It is evident that these artists possess a talent for producing music that is specifically designed to get people on their feet and dancing. Overall, based on my experience with these songs, I can confidently say that these artists excel in creating top-notch party anthems that are sure to elevate any festive occasion."
   ]
  },
  {
   "cell_type": "code",
   "execution_count": null,
   "metadata": {},
   "outputs": [],
   "source": [
    "grouped = music.groupby('album_name')['danceability'].mean()\n",
    "\n",
    "plt.figure(figsize = (10,3), dpi = 100)\n",
    "sns.histplot(x = grouped.sort_values(ascending = False)[0:20].index, y = grouped.sort_values(ascending = False)[0:20].values)\n",
    "\n",
    "\n",
    "plt.xlabel('album_name')\n",
    "plt.ylabel('danceability')\n",
    "plt.xticks(rotation = 90)\n",
    "plt.title('20 Most danceable Albums')\n",
    "\n",
    "\n",
    "plt.show()\n",
    "\n",
    "print(grouped.sort_values(ascending=False))"
   ]
  },
  {
   "cell_type": "markdown",
   "metadata": {},
   "source": [
    "This album provides a wealth of danceable songs that would be perfect for our upcoming party. It offers a wide selection of tracks that are specifically designed to get people moving and grooving on the dance floor. From high-energy beats to infectious melodies, this album has it all. It is evident that the artists behind these songs understand the importance of creating music that is both enjoyable and dance-friendly. With this album, we can easily compile a playlist that will cater to the party's atmosphere and ensure that everyone has a great time."
   ]
  },
  {
   "cell_type": "code",
   "execution_count": null,
   "metadata": {},
   "outputs": [],
   "source": [
    "grouped = music.groupby('track_name')['popularity'].mean()\n",
    "\n",
    "plt.figure(figsize = (10,3), dpi = 100)\n",
    "sns.boxplot(x = grouped.sort_values(ascending = False)[0:20].index, y = grouped.sort_values(ascending = False)[0:20].values)\n",
    "plt.xlabel('track_name')\n",
    "plt.ylabel('popularity')\n",
    "plt.xticks(rotation = 90)\n",
    "plt.title('20 Most popular Tracks')\n",
    "plt.show()"
   ]
  },
  {
   "cell_type": "code",
   "execution_count": null,
   "metadata": {},
   "outputs": [],
   "source": [
    "grouped.sort_values(ascending=False)"
   ]
  },
  {
   "cell_type": "markdown",
   "metadata": {},
   "source": [
    "The level of popularity has a significant influence on the danceability of a song. By obtaining the top 20 popular tracks, we can effectively identify the danceable songs that would be perfect for our party. Popularity serves as a reliable indicator of how well-received and enjoyed a song is by the general audience. Therefore, by focusing on the most popular tracks, we can be confident that they possess the qualities and characteristics that encourage people to get up and dance. Utilizing this approach will enable us to curate a playlist that guarantees a lively and energetic atmosphere, ensuring that our party is a resounding success."
   ]
  },
  {
   "cell_type": "code",
   "execution_count": null,
   "metadata": {},
   "outputs": [],
   "source": [
    "# groupTempo = music[(music['tempo'] >=110) & (music['tempo'] <=140)]\n",
    "groupTempo = music[music['tempo'] >=124]\n",
    "\n",
    "grouped = groupTempo.groupby('track_name')['tempo'].mean()\n",
    "plt.figure(figsize = (10,7), dpi = 100)\n",
    "sns.barplot(  y = grouped.sort_values( ascending = False)[0:20].index, x = grouped.sort_values( ascending = False)[0:20].values, orient='h')\n",
    "\n",
    "#labels\n",
    "plt.xlabel('Tracks')\n",
    "plt.ylabel('Tempo')\n",
    "plt.xticks(rotation = 90)\n",
    "plt.title('Top 20 Tracks with Danceable Tempo')\n",
    "\n",
    "#show plot\n",
    "plt.show()"
   ]
  },
  {
   "cell_type": "markdown",
   "metadata": {},
   "source": [
    "##### Recognizing that danceability is the crucial factor in determining which songs are suitable for a party, we utilized this metric to sort out the top 50 tracks that possess high danceability. By prioritizing danceability, we ensured that the selected songs have a rhythm, tempo, and overall vibe that naturally incite people to dance and enjoy themselves. This approach guarantees that our playlist is filled with energetic and engaging tracks that will keep the partygoers on their feet throughout the event. By focusing on danceability, we have curated a collection of songs that are perfectly tailored to create a lively and enjoyable atmosphere for everyone in attendance."
   ]
  },
  {
   "cell_type": "code",
   "execution_count": null,
   "metadata": {},
   "outputs": [],
   "source": [
    "music.sort_values(by = 'danceability', ascending = False)[['track_name','artists','track_genre','album_name']].head(50)"
   ]
  },
  {
   "cell_type": "code",
   "execution_count": null,
   "metadata": {},
   "outputs": [],
   "source": []
  },
  {
   "cell_type": "code",
   "execution_count": null,
   "metadata": {},
   "outputs": [],
   "source": [
    "spotify_filtered = music[(music['danceability'] > 0.8) & (music['popularity'] >= 80)].head(50)\n",
    "spotify_filtered"
   ]
  },
  {
   "cell_type": "code",
   "execution_count": null,
   "metadata": {},
   "outputs": [],
   "source": [
    "top10_tracks = Spotify.nlargest(10, 'danceability')\n",
    "\n",
    "fig = px.bar(top10_tracks, x='track_name', y=['speechiness', 'energy', 'acousticness', 'valence'], barmode='group')\n",
    "fig.show()"
   ]
  },
  {
   "cell_type": "markdown",
   "metadata": {},
   "source": [
    "The dataset at hand provides a comprehensive collection of audio features for a wide range of songs, as well as the corresponding audio features for various genres. This wealth of information allows us to delve into the realm of music genres and conduct meaningful comparisons among them. By analyzing these audio features, we can uncover the unique differences in sound that define each genre. This dataset empowers us to explore the diverse sonic landscapes and understand the distinct characteristics that set genres apart from one another.\n",
    "\n",
    "With this dataset, we can embark on an intriguing journey of musical exploration. By examining the audio features of different songs and genres, we gain valuable insights into how various genres diverge in terms of their sound qualities. From the rhythm and tempo to the tonality and energy, these audio features provide a comprehensive overview of the sonic elements that shape each genre's identity. By leveraging this dataset, we can uncover patterns, trends, and nuances that illuminate the rich tapestry of musical genres and deepen our understanding of the intricate world of music."
   ]
  },
  {
   "cell_type": "code",
   "execution_count": null,
   "metadata": {},
   "outputs": [],
   "source": []
  },
  {
   "cell_type": "markdown",
   "metadata": {},
   "source": [
    "## Feature Scaling"
   ]
  },
  {
   "cell_type": "code",
   "execution_count": null,
   "metadata": {},
   "outputs": [],
   "source": [
    "music.var()"
   ]
  },
  {
   "cell_type": "markdown",
   "metadata": {},
   "source": [
    "#### Before scaling, we will drop the key and mode columns"
   ]
  },
  {
   "cell_type": "code",
   "execution_count": null,
   "metadata": {},
   "outputs": [],
   "source": [
    "music.drop(['key', 'mode','explicit'], axis=1, inplace=True)"
   ]
  },
  {
   "cell_type": "markdown",
   "metadata": {},
   "source": [
    "some features have very high variance. We will use the minmaxScaler to normalize the variance for the sake of our model"
   ]
  },
  {
   "cell_type": "code",
   "execution_count": null,
   "metadata": {},
   "outputs": [],
   "source": [
    "from sklearn.preprocessing import MinMaxScaler, StandardScaler\n",
    "\n",
    "df = music.copy()\n",
    "\n",
    "features_to_scale = ['popularity', 'tempo', 'loudness', 'duration_minutes']\n",
    "\n",
    "# Option 1: Min-Max Scaling (Scaling to a specific range, e.g., [0, 1])\n",
    "# Initialize the MinMaxScaler\n",
    "min_max_scaler = MinMaxScaler()\n",
    "\n",
    "# # Apply Min-Max scaling to the selected features\n",
    "df[features_to_scale] = min_max_scaler.fit_transform(df[features_to_scale])"
   ]
  },
  {
   "cell_type": "code",
   "execution_count": null,
   "metadata": {},
   "outputs": [],
   "source": [
    "df.var()"
   ]
  },
  {
   "cell_type": "code",
   "execution_count": null,
   "metadata": {},
   "outputs": [],
   "source": []
  },
  {
   "cell_type": "code",
   "execution_count": null,
   "metadata": {},
   "outputs": [],
   "source": [
    "print(music.columns.tolist())"
   ]
  },
  {
   "cell_type": "code",
   "execution_count": null,
   "metadata": {},
   "outputs": [],
   "source": [
    "import pandas as pd\n",
    "from sklearn.ensemble import RandomForestRegressor\n",
    "from sklearn.model_selection import train_test_split\n",
    "\n",
    "# Load your dataset, which includes 'danceability' and other features.\n",
    "# Replace 'your_dataset.csv' with your dataset file path.\n",
    "df = music\n",
    "\n",
    "# Define the target variable ('danceability') and feature columns.\n",
    "X = df.drop(['track_id', 'artists', 'album_name', 'track_name', 'popularity', 'explicit', 'track_genre', 'danceability'], axis=1)  # Features\n",
    "y = df['danceability']  # Target variable (continuous)\n",
    "\n",
    "# Split the data into training and testing sets (or use cross-validation).\n",
    "X_train, X_test, y_train, y_test = train_test_split(X, y, test_size=0.2, random_state=42)\n",
    "\n",
    "# Initialize a RandomForestRegressor.\n",
    "regressor = RandomForestRegressor(n_estimators=100, random_state=42)\n",
    "\n",
    "# Fit the model to your training data.\n",
    "regressor.fit(X_train, y_train)\n",
    "\n",
    "# Get feature importances from the trained model.\n",
    "feature_importances = regressor.feature_importances_\n",
    "\n",
    "# Create a DataFrame to store feature names and their importance scores.\n",
    "feature_importance_df = pd.DataFrame({'Feature': X.columns, 'Importance': feature_importances})\n",
    "\n",
    "# Sort features by importance in descending order.\n",
    "feature_importance_df = feature_importance_df.sort_values(by='Importance', ascending=False)\n",
    "\n",
    "# You can specify a threshold to select the top N features based on their importance.\n",
    "top_n_features = 5  # Choose the desired number of top features.\n",
    "\n",
    "# Select the top N features.\n",
    "selected_features = feature_importance_df.head(top_n_features)['Feature']\n",
    "\n",
    "# 'selected_features' now contains the names of the top N features based on their importance.\n",
    "# selected_features"
   ]
  },
  {
   "cell_type": "code",
   "execution_count": null,
   "metadata": {},
   "outputs": [],
   "source": [
    "selected_features"
   ]
  },
  {
   "cell_type": "code",
   "execution_count": null,
   "metadata": {},
   "outputs": [],
   "source": [
    "import pandas as pd\n",
    "from sklearn.ensemble import RandomForestRegressor  # Import RandomForestRegressor\n",
    "from sklearn.impute import SimpleImputer\n",
    "from sklearn.preprocessing import OneHotEncoder\n",
    "from sklearn.compose import ColumnTransformer\n",
    "from sklearn.pipeline import Pipeline\n",
    "\n",
    "\n",
    "# Define the target variable ('danceability') and feature columns.\n",
    "X = df.drop(['danceability'], axis=1)  \n",
    "y = df['danceability']\n",
    "\n",
    "# Identify numerical and categorical columns.\n",
    "numerical_cols = X.select_dtypes(include=['number']).columns\n",
    "categorical_cols = X.select_dtypes(exclude=['number']).columns\n",
    "\n",
    "# Define preprocessing steps for numerical and categorical features.\n",
    "numeric_transformer = Pipeline(steps=[\n",
    "    ('imputer', SimpleImputer(strategy='mean')),\n",
    "    # Add other transformers as needed for numerical features\n",
    "])\n",
    "\n",
    "categorical_transformer = Pipeline(steps=[\n",
    "    ('onehot', OneHotEncoder(handle_unknown='ignore')),\n",
    "    # Add other transformers as needed for categorical features\n",
    "])\n",
    "\n",
    "# Combine preprocessing steps for both numerical and categorical features.\n",
    "preprocessor = ColumnTransformer(\n",
    "    transformers=[\n",
    "        ('num', numeric_transformer, numerical_cols),\n",
    "        ('cat', categorical_transformer, categorical_cols)\n",
    "    ])\n",
    "\n",
    "# Initialize a RandomForestRegressor for regression.\n",
    "regressor = RandomForestRegressor(n_estimators=100, random_state=42)\n",
    "\n",
    "# Create a pipeline that includes preprocessing and the regressor.\n",
    "model = Pipeline(steps=[('preprocessor', preprocessor),\n",
    "                        ('regressor', regressor)])\n",
    "\n",
    "# Fit the regression model to your data.\n",
    "model.fit(X, y)\n",
    "\n",
    "# You can now use the trained model for predicting danceability scores.\n",
    "model.predict(y_test)"
   ]
  },
  {
   "cell_type": "code",
   "execution_count": null,
   "metadata": {},
   "outputs": [],
   "source": [
    "df.columns"
   ]
  },
  {
   "cell_type": "code",
   "execution_count": null,
   "metadata": {},
   "outputs": [],
   "source": [
    "import pandas as pd\n",
    "from sklearn.linear_model import LinearRegression\n",
    "from sklearn.preprocessing import MinMaxScaler\n",
    "\n",
    "# Load your dataset, which includes 'danceability' and other features.\n",
    "# Replace 'your_dataset.csv' with your dataset file path.\n",
    "\n",
    "# Define the target variable ('danceability') and feature columns.\n",
    "# X = df.drop(['danceability'], axis=1)  # Features\n",
    "X = df.drop(['track_id', 'artists', 'album_name', 'track_name', 'popularity', 'explicit', 'track_genre', 'danceability', 'duration_minutes'], axis=1)  # Features\n",
    "\n",
    "y = df['danceability']  # Target variable (continuous)\n",
    "\n",
    "\n",
    "\n",
    "# Initialize a regression model (e.g., Linear Regression).\n",
    "regressor = LinearRegression()  # You can choose another regression model\n",
    "\n",
    "# Fit the regression model to the entire dataset.\n",
    "regressor.fit(X, y)\n",
    "\n",
    "# Make predictions for all songs in the dataset.\n",
    "predictions = regressor.predict(X)\n",
    "\n",
    "# Add the predicted danceability scores as a new column in the DataFrame.\n",
    "df['predicted_danceability'] = predictions\n",
    "\n",
    "# Rank the songs based on predicted danceability scores in descending order.\n",
    "recommended_songs = df.sort_values(by='predicted_danceability', ascending=False).head(50)\n",
    "\n",
    "# The 'recommended_songs' DataFrame now contains the top 50 songs recommended based on predicted danceability scores.\n"
   ]
  },
  {
   "cell_type": "code",
   "execution_count": null,
   "metadata": {},
   "outputs": [],
   "source": [
    "recommended_songs"
   ]
  },
  {
   "cell_type": "code",
   "execution_count": null,
   "metadata": {},
   "outputs": [],
   "source": []
  },
  {
   "cell_type": "code",
   "execution_count": null,
   "metadata": {},
   "outputs": [],
   "source": [
    "predictions = regressor.predict(y)\n",
    "\n",
    "# Add the predicted danceability scores as a new column in the DataFrame.\n",
    "df['predicted_danceability'] = predictions\n",
    "\n",
    "# Rank the songs based on predicted danceability scores in descending order.\n",
    "recommended_songs = df.sort_values(by='predicted_danceability', ascending=False).head(50)\n",
    "\n",
    "# The 'recommended_songs' DataFrame now contains the top 50 songs recommended based on predicted danceability scores."
   ]
  },
  {
   "cell_type": "code",
   "execution_count": null,
   "metadata": {},
   "outputs": [],
   "source": []
  },
  {
   "cell_type": "code",
   "execution_count": null,
   "metadata": {},
   "outputs": [],
   "source": []
  },
  {
   "cell_type": "code",
   "execution_count": null,
   "metadata": {},
   "outputs": [],
   "source": []
  },
  {
   "cell_type": "code",
   "execution_count": null,
   "metadata": {},
   "outputs": [],
   "source": []
  },
  {
   "cell_type": "code",
   "execution_count": null,
   "metadata": {},
   "outputs": [],
   "source": []
  },
  {
   "cell_type": "code",
   "execution_count": null,
   "metadata": {},
   "outputs": [],
   "source": []
  },
  {
   "cell_type": "code",
   "execution_count": null,
   "metadata": {},
   "outputs": [],
   "source": []
  },
  {
   "cell_type": "code",
   "execution_count": null,
   "metadata": {},
   "outputs": [],
   "source": []
  },
  {
   "cell_type": "code",
   "execution_count": null,
   "metadata": {},
   "outputs": [],
   "source": []
  },
  {
   "cell_type": "code",
   "execution_count": null,
   "metadata": {},
   "outputs": [],
   "source": []
  },
  {
   "cell_type": "code",
   "execution_count": null,
   "metadata": {},
   "outputs": [],
   "source": []
  },
  {
   "cell_type": "code",
   "execution_count": null,
   "metadata": {},
   "outputs": [],
   "source": []
  },
  {
   "cell_type": "code",
   "execution_count": null,
   "metadata": {},
   "outputs": [],
   "source": []
  },
  {
   "cell_type": "code",
   "execution_count": null,
   "metadata": {},
   "outputs": [],
   "source": []
  },
  {
   "cell_type": "code",
   "execution_count": null,
   "metadata": {},
   "outputs": [],
   "source": []
  },
  {
   "cell_type": "code",
   "execution_count": null,
   "metadata": {},
   "outputs": [],
   "source": []
  },
  {
   "cell_type": "code",
   "execution_count": null,
   "metadata": {},
   "outputs": [],
   "source": []
  },
  {
   "cell_type": "code",
   "execution_count": null,
   "metadata": {},
   "outputs": [],
   "source": []
  },
  {
   "cell_type": "code",
   "execution_count": null,
   "metadata": {},
   "outputs": [],
   "source": []
  }
 ],
 "metadata": {
  "kernelspec": {
   "display_name": "Python 3 (ipykernel)",
   "language": "python",
   "name": "python3"
  },
  "language_info": {
   "codemirror_mode": {
    "name": "ipython",
    "version": 3
   },
   "file_extension": ".py",
   "mimetype": "text/x-python",
   "name": "python",
   "nbconvert_exporter": "python",
   "pygments_lexer": "ipython3",
   "version": "3.7.6"
  }
 },
 "nbformat": 4,
 "nbformat_minor": 5
}
